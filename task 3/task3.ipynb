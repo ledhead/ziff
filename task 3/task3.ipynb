{
 "cells": [
  {
   "cell_type": "markdown",
   "metadata": {},
   "source": [
    "#### Learning rate schedules for stochastic gradient descent are known to improve the convergence of deep learning models. In this exercise we experiment with two decay strategies and compare their performance against a fixed learning rate schedule. The experiments are based on the deep learning model that learns to distinguish between cats and dogs."
   ]
  },
  {
   "cell_type": "markdown",
   "metadata": {},
   "source": [
    "#### First, we run the algorithm with the fixed learning rate set to 0.05. After 100 epochs it gives the test set accuracy of 0.7005."
   ]
  },
  {
   "cell_type": "code",
   "execution_count": 26,
   "metadata": {},
   "outputs": [
    {
     "name": "stdout",
     "output_type": "stream",
     "text": [
      "x_train shape: (10000, 32, 32, 3)\n",
      "10000 train samples\n",
      "2000 test samples\n",
      "SGD with fixed learning rate lr=0.05\n",
      "Final accuracy on test set: 0.700500\n"
     ]
    }
   ],
   "source": [
    "from __future__ import print_function\n",
    "import keras\n",
    "from keras.datasets import mnist\n",
    "from keras.datasets import cifar10\n",
    "from keras.models import Sequential\n",
    "from keras.layers import Dense, Dropout, Flatten\n",
    "from keras.layers import Conv2D, MaxPooling2D\n",
    "from keras import backend as K\n",
    "from keras import optimizers\n",
    "import numpy as np\n",
    "\n",
    "# fix the seed for reproducibility\n",
    "from numpy.random import seed\n",
    "np.random.seed(1)\n",
    "from tensorflow import set_random_seed\n",
    "set_random_seed(2)\n",
    "\n",
    "batch_size = 64\n",
    "num_classes = 2\n",
    "epochs = 100\n",
    "\n",
    "# input image dimensions\n",
    "img_rows, img_cols = 32, 32   \n",
    "\n",
    "# the data, shuffled and split between train and test sets\n",
    "(x_train, y_train), (x_test, y_test) = cifar10.load_data()   \n",
    "\n",
    "#Only look at cats [=3] and dogs [=5]\n",
    "train_picks = np.ravel(np.logical_or(y_train==3,y_train==5))  \n",
    "test_picks = np.ravel(np.logical_or(y_test==3,y_test==5))     \n",
    "\n",
    "y_train = np.array(y_train[train_picks]==5,dtype=int)\n",
    "y_test = np.array(y_test[test_picks]==5,dtype=int)\n",
    "\n",
    "x_train = x_train[train_picks]\n",
    "x_test = x_test[test_picks]\n",
    "\n",
    "if K.image_data_format() == 'channels_first':\n",
    "    x_train = x_train.reshape(x_train.shape[0], 3, img_rows, img_cols)\n",
    "    x_test = x_test.reshape(x_test.shape[0], 3, img_rows, img_cols)\n",
    "    input_shape = (3, img_rows, img_cols)\n",
    "else:\n",
    "    x_train = x_train.reshape(x_train.shape[0], img_rows, img_cols, 3)\n",
    "    x_test = x_test.reshape(x_test.shape[0], img_rows, img_cols, 3)\n",
    "    input_shape = (img_rows, img_cols, 3)\n",
    "\n",
    "x_train = x_train.astype('float32')\n",
    "x_test = x_test.astype('float32')\n",
    "x_train /= 255\n",
    "x_test /= 255\n",
    "print('x_train shape:', x_train.shape)\n",
    "print(x_train.shape[0], 'train samples')\n",
    "print(x_test.shape[0], 'test samples')\n",
    "\n",
    "# convert class vectors to binary class matrices\n",
    "y_train = keras.utils.to_categorical(np.ravel(y_train), num_classes)\n",
    "y_test = keras.utils.to_categorical(np.ravel(y_test), num_classes)\n",
    "\n",
    "model = Sequential()\n",
    "model.add(Conv2D(4, kernel_size=(3, 3),activation='relu',input_shape=input_shape))\n",
    "model.add(Conv2D(8, (3, 3), activation='relu'))\n",
    "model.add(MaxPooling2D(pool_size=(2, 2)))\n",
    "model.add(Dropout(0.25))\n",
    "model.add(Flatten())\n",
    "model.add(Dense(16, activation='relu'))\n",
    "model.add(Dropout(0.5))\n",
    "model.add(Dense(2, activation='softmax'))\n",
    "\n",
    "learning_rate = 0.05\n",
    "sgd = optimizers.SGD(lr=learning_rate, momentum=0.8, decay=0.0, nesterov=False)\n",
    "model.compile(loss=keras.losses.categorical_crossentropy,\n",
    "              optimizer=sgd,\n",
    "              metrics=['accuracy'])\n",
    "\n",
    "print(\"SGD with fixed learning rate lr=%.2f\" % learning_rate)\n",
    "history1 = model.fit(x_train, y_train,\n",
    "      batch_size=batch_size,\n",
    "      epochs=epochs,\n",
    "      verbose=0,\n",
    "      validation_data=(x_test, y_test))\n",
    "\n",
    "print ('Final accuracy on test set: %f' % float(history1.history['val_acc'][-1]))"
   ]
  },
  {
   "cell_type": "markdown",
   "metadata": {},
   "source": [
    "#### One way of annealing the learning rate is to make it adaptive to the changes in accuracy on the test set. The strategy we propose is to decrease the learning rate in proportion to the increase in accuracy at each epoch. The parameter eta is used to control this proportion. Running this schedule for 100 epochs with eta = 3 results in the final test set accuracy of 0.7105."
   ]
  },
  {
   "cell_type": "code",
   "execution_count": 28,
   "metadata": {},
   "outputs": [
    {
     "name": "stdout",
     "output_type": "stream",
     "text": [
      "x_train shape: (10000, 32, 32, 3)\n",
      "10000 train samples\n",
      "2000 test samples\n",
      "SGD with accuracy-based decay\n",
      "Final accuracy on test set: 0.710500\n"
     ]
    }
   ],
   "source": [
    "from __future__ import print_function\n",
    "import keras\n",
    "from keras.datasets import mnist\n",
    "from keras.datasets import cifar10\n",
    "from keras.models import Sequential\n",
    "from keras.layers import Dense, Dropout, Flatten\n",
    "from keras.layers import Conv2D, MaxPooling2D\n",
    "from keras import backend as K\n",
    "from keras import optimizers\n",
    "from keras.callbacks import LearningRateScheduler\n",
    "import numpy as np\n",
    "\n",
    "# fix the seed for reproducibility\n",
    "from numpy.random import seed\n",
    "np.random.seed(1)\n",
    "from tensorflow import set_random_seed\n",
    "set_random_seed(2)\n",
    "\n",
    "acc_increase = 0.0\n",
    "class AccHistory(keras.callbacks.Callback):\n",
    "    def on_train_begin(self, logs={}):\n",
    "        self.accuracies = []\n",
    "    def on_epoch_end(self, batch, logs={}):\n",
    "        global acc_increase\n",
    "        previous_acc = 0.5\n",
    "        current_acc = logs.get('val_acc')\n",
    "        if len(self.accuracies) > 0:\n",
    "            previous_acc = self.accuracies[-1]\n",
    "        acc_delta = current_acc - previous_acc\n",
    "        acc_increase = max(acc_delta / previous_acc, 0.0)\n",
    "        self.accuracies.append(current_acc)\n",
    "\n",
    "previous_lr = 0.05 #initial learning rate\n",
    "lr_accuracy_based_decay = []\n",
    "def accuracy_based_decay(t):\n",
    "    global previous_lr\n",
    "    eta = 3.0 #multiplier\n",
    "    lr = previous_lr - previous_lr * acc_increase * eta\n",
    "    lr_accuracy_based_decay.append(lr)\n",
    "    previous_lr = lr\n",
    "    return lr\n",
    "\n",
    "batch_size = 64\n",
    "num_classes = 2\n",
    "epochs = 100\n",
    "\n",
    "# input image dimensions\n",
    "img_rows, img_cols = 32, 32   \n",
    "\n",
    "# the data, shuffled and split between train and test sets\n",
    "(x_train, y_train), (x_test, y_test) = cifar10.load_data()   \n",
    "\n",
    "#Only look at cats [=3] and dogs [=5]\n",
    "train_picks = np.ravel(np.logical_or(y_train==3,y_train==5))  \n",
    "test_picks = np.ravel(np.logical_or(y_test==3,y_test==5))     \n",
    "\n",
    "y_train = np.array(y_train[train_picks]==5,dtype=int)\n",
    "y_test = np.array(y_test[test_picks]==5,dtype=int)\n",
    "\n",
    "x_train = x_train[train_picks]\n",
    "x_test = x_test[test_picks]\n",
    "\n",
    "if K.image_data_format() == 'channels_first':\n",
    "    x_train = x_train.reshape(x_train.shape[0], 3, img_rows, img_cols)\n",
    "    x_test = x_test.reshape(x_test.shape[0], 3, img_rows, img_cols)\n",
    "    input_shape = (3, img_rows, img_cols)\n",
    "else:\n",
    "    x_train = x_train.reshape(x_train.shape[0], img_rows, img_cols, 3)\n",
    "    x_test = x_test.reshape(x_test.shape[0], img_rows, img_cols, 3)\n",
    "    input_shape = (img_rows, img_cols, 3)\n",
    "\n",
    "x_train = x_train.astype('float32')\n",
    "x_test = x_test.astype('float32')\n",
    "x_train /= 255\n",
    "x_test /= 255\n",
    "print('x_train shape:', x_train.shape)\n",
    "print(x_train.shape[0], 'train samples')\n",
    "print(x_test.shape[0], 'test samples')\n",
    "\n",
    "# convert class vectors to binary class matrices\n",
    "y_train = keras.utils.to_categorical(np.ravel(y_train), num_classes)\n",
    "y_test = keras.utils.to_categorical(np.ravel(y_test), num_classes)\n",
    "\n",
    "model = Sequential()\n",
    "model.add(Conv2D(4, kernel_size=(3, 3),activation='relu',input_shape=input_shape))\n",
    "model.add(Conv2D(8, (3, 3), activation='relu'))\n",
    "model.add(MaxPooling2D(pool_size=(2, 2)))\n",
    "model.add(Dropout(0.25))\n",
    "model.add(Flatten())\n",
    "model.add(Dense(16, activation='relu'))\n",
    "model.add(Dropout(0.5))\n",
    "model.add(Dense(2, activation='softmax'))\n",
    "\n",
    "sgd = optimizers.SGD(lr=0.01, momentum=0.8, decay=0.0, nesterov=False)\n",
    "model.compile(loss=keras.losses.categorical_crossentropy,\n",
    "              optimizer=sgd,\n",
    "              metrics=['accuracy'])\n",
    "\n",
    "history=AccHistory()\n",
    "lr = LearningRateScheduler(accuracy_based_decay)\n",
    "callbacks_list = [history, lr]\n",
    "print(\"SGD with accuracy-based decay\")\n",
    "history2 = model.fit(x_train, y_train,\n",
    "      batch_size=batch_size,\n",
    "      epochs=epochs,\n",
    "      callbacks=callbacks_list,\n",
    "      verbose=0,\n",
    "      validation_data=(x_test, y_test))\n",
    "\n",
    "print ('Final accuracy on test set: %f' % float(history2.history['val_acc'][-1]))"
   ]
  },
  {
   "cell_type": "markdown",
   "metadata": {},
   "source": [
    "#### One straightforward learning rate schedule is the exponential decay, controlled with the paremeter k. We set k to 0.05 and run the schedule for 100 epochs. This results in 0.7035 accuracy on the test set."
   ]
  },
  {
   "cell_type": "code",
   "execution_count": 30,
   "metadata": {},
   "outputs": [
    {
     "name": "stdout",
     "output_type": "stream",
     "text": [
      "x_train shape: (10000, 32, 32, 3)\n",
      "10000 train samples\n",
      "2000 test samples\n",
      "SGD with exponential decay\n",
      "Final accuracy on test set: 0.703500\n"
     ]
    }
   ],
   "source": [
    "from __future__ import print_function\n",
    "import keras\n",
    "from keras.datasets import mnist\n",
    "from keras.datasets import cifar10\n",
    "from keras.models import Sequential\n",
    "from keras.layers import Dense, Dropout, Flatten\n",
    "from keras.layers import Conv2D, MaxPooling2D\n",
    "from keras import backend as K\n",
    "from keras import optimizers\n",
    "from keras.callbacks import LearningRateScheduler\n",
    "import numpy as np\n",
    "import math\n",
    "\n",
    "# fix the seed for reproducibility\n",
    "from numpy.random import seed\n",
    "np.random.seed(1)\n",
    "from tensorflow import set_random_seed\n",
    "set_random_seed(2)\n",
    "\n",
    "lr_exponential_decay = []\n",
    "def exponential_decay(t):\n",
    "    initial_lr = 0.05\n",
    "    k = 0.05\n",
    "    lr = initial_lr * math.exp(-k * t)\n",
    "    lr_exponential_decay.append(lr)\n",
    "    return lr\n",
    "\n",
    "batch_size = 64\n",
    "num_classes = 2\n",
    "epochs = 100\n",
    "\n",
    "# input image dimensions\n",
    "img_rows, img_cols = 32, 32   \n",
    "\n",
    "# the data, shuffled and split between train and test sets\n",
    "(x_train, y_train), (x_test, y_test) = cifar10.load_data()   \n",
    "\n",
    "#Only look at cats [=3] and dogs [=5]\n",
    "train_picks = np.ravel(np.logical_or(y_train==3,y_train==5))  \n",
    "test_picks = np.ravel(np.logical_or(y_test==3,y_test==5))     \n",
    "\n",
    "y_train = np.array(y_train[train_picks]==5,dtype=int)\n",
    "y_test = np.array(y_test[test_picks]==5,dtype=int)\n",
    "\n",
    "x_train = x_train[train_picks]\n",
    "x_test = x_test[test_picks]\n",
    "\n",
    "if K.image_data_format() == 'channels_first':\n",
    "    x_train = x_train.reshape(x_train.shape[0], 3, img_rows, img_cols)\n",
    "    x_test = x_test.reshape(x_test.shape[0], 3, img_rows, img_cols)\n",
    "    input_shape = (3, img_rows, img_cols)\n",
    "else:\n",
    "    x_train = x_train.reshape(x_train.shape[0], img_rows, img_cols, 3)\n",
    "    x_test = x_test.reshape(x_test.shape[0], img_rows, img_cols, 3)\n",
    "    input_shape = (img_rows, img_cols, 3)\n",
    "\n",
    "x_train = x_train.astype('float32')\n",
    "x_test = x_test.astype('float32')\n",
    "x_train /= 255\n",
    "x_test /= 255\n",
    "print('x_train shape:', x_train.shape)\n",
    "print(x_train.shape[0], 'train samples')\n",
    "print(x_test.shape[0], 'test samples')\n",
    "\n",
    "# convert class vectors to binary class matrices\n",
    "y_train = keras.utils.to_categorical(np.ravel(y_train), num_classes)\n",
    "y_test = keras.utils.to_categorical(np.ravel(y_test), num_classes)\n",
    "\n",
    "model = Sequential()\n",
    "model.add(Conv2D(4, kernel_size=(3, 3),activation='relu',input_shape=input_shape))\n",
    "model.add(Conv2D(8, (3, 3), activation='relu'))\n",
    "model.add(MaxPooling2D(pool_size=(2, 2)))\n",
    "model.add(Dropout(0.25))\n",
    "model.add(Flatten())\n",
    "model.add(Dense(16, activation='relu'))\n",
    "model.add(Dropout(0.5))\n",
    "model.add(Dense(2, activation='softmax'))\n",
    "\n",
    "sgd = optimizers.SGD(lr=0.01, momentum=0.8, decay=0.0, nesterov=False)\n",
    "model.compile(loss=keras.losses.categorical_crossentropy,\n",
    "              optimizer=sgd,\n",
    "              metrics=['accuracy'])\n",
    "\n",
    "lr = LearningRateScheduler(exponential_decay)\n",
    "callbacks_list = [lr]\n",
    "print(\"SGD with exponential decay\")\n",
    "history3 = model.fit(x_train, y_train,\n",
    "      batch_size=batch_size,\n",
    "      epochs=epochs,\n",
    "      callbacks=callbacks_list,\n",
    "      verbose=0,\n",
    "      validation_data=(x_test, y_test))\n",
    "\n",
    "print ('Final accuracy on test set: %f' % float(history3.history['val_acc'][-1]))"
   ]
  },
  {
   "cell_type": "markdown",
   "metadata": {},
   "source": [
    "#### The comparison chart below shows the performance of two learning rate schedules against the baseline algorithm with a fixed learing rate."
   ]
  },
  {
   "cell_type": "code",
   "execution_count": 31,
   "metadata": {},
   "outputs": [
    {
     "data": {
      "image/png": "[encoded data removed]",
      "text/plain": [
       "<matplotlib.figure.Figure at 0x7f2aabc89470>"
      ]
     },
     "metadata": {},
     "output_type": "display_data"
    }
   ],
   "source": [
    "import matplotlib.pyplot as plt\n",
    "%matplotlib inline  \n",
    "\n",
    "plt.title('Accuracy on test set')\n",
    "plt.plot(history1.epoch,history1.history['val_acc'],label='fixed learning rate (lr=0.05)')\n",
    "plt.plot(history1.epoch,history2.history['val_acc'],label='accuracy-based decay (eta=3)')\n",
    "plt.plot(history1.epoch,history3.history['val_acc'],label='exponential decay (k=0.05)')\n",
    "\n",
    "plt.legend(loc=0)\n",
    "plt.xlabel('epochs')\n",
    "plt.ylabel('accuracy')\n",
    "plt.grid(True)"
   ]
  },
  {
   "cell_type": "markdown",
   "metadata": {},
   "source": [
    "#### We can see that the consistent small gain in accuracy can be observed after the 20th epoch for decaying learning rates. We note that a more reliable comparison would report the averages over several runs of the same algorithm with different random seeds."
   ]
  },
  {
   "cell_type": "markdown",
   "metadata": {},
   "source": [
    "#### Finally, we visualize our learning rate schedules on the chart below."
   ]
  },
  {
   "cell_type": "code",
   "execution_count": 33,
   "metadata": {},
   "outputs": [
    {
     "data": {
      "image/png": "[encoded data removed]",
      "text/plain": [
       "<matplotlib.figure.Figure at 0x7f2aabc895c0>"
      ]
     },
     "metadata": {},
     "output_type": "display_data"
    }
   ],
   "source": [
    "import matplotlib.pyplot as plt\n",
    "%matplotlib inline  \n",
    "\n",
    "plt.title('Learning rate schedules')\n",
    "plt.plot(history1.epoch,[0.05]*epochs,label='fixed learning rate')\n",
    "plt.plot(history1.epoch,lr_accuracy_based_decay,label='accuracy-based decay')\n",
    "plt.plot(history1.epoch,lr_exponential_decay,label='exponential decay')\n",
    "\n",
    "plt.legend(loc=0)\n",
    "plt.xlabel('epochs')\n",
    "plt.ylabel('learning rate')\n",
    "plt.grid(True)"
   ]
  },
  {
   "cell_type": "code",
   "execution_count": null,
   "metadata": {
    "collapsed": true
   },
   "outputs": [],
   "source": []
  }
 ],
 "metadata": {
  "kernelspec": {
   "display_name": "Python 3",
   "language": "python",
   "name": "python3"
  },
  "language_info": {
   "codemirror_mode": {
    "name": "ipython",
    "version": 3
   },
   "file_extension": ".py",
   "mimetype": "text/x-python",
   "name": "python",
   "nbconvert_exporter": "python",
   "pygments_lexer": "ipython3",
   "version": "3.6.1"
  }
 },
 "nbformat": 4,
 "nbformat_minor": 2
}
